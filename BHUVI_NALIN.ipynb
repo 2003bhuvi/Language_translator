{
 "cells": [
  {
   "cell_type": "code",
   "execution_count": 1,
   "id": "4d1269f2-eb06-4c4d-840c-f81c799c80aa",
   "metadata": {},
   "outputs": [],
   "source": [
    "import tkinter as tk\n",
    "from tkinter import ttk, messagebox\n",
    "from deep_translator import GoogleTranslator"
   ]
  },
  {
   "cell_type": "code",
   "execution_count": 2,
   "id": "5d0ab3a3-8fbd-4cc8-a60c-bf51f1793dde",
   "metadata": {},
   "outputs": [],
   "source": [
    "def translate_text():\n",
    "    text = input_text.get(\"1.0\", tk.END).strip()\n",
    "    target_lang = lang_var.get()\n",
    "    if not text:\n",
    "        messagebox.showwarning(\"⚠️ Warning\", \"Please enter some text to translate.\")\n",
    "        return\n",
    "    try:\n",
    "        translated = GoogleTranslator(source='auto', target=target_lang).translate(text)\n",
    "        output_text.delete(\"1.0\", tk.END)\n",
    "        output_text.insert(tk.END, translated)\n",
    "    except Exception as e:\n",
    "        messagebox.showerror(\"❌ Error\", str(e))"
   ]
  },
  {
   "cell_type": "code",
   "execution_count": 3,
   "id": "a87c82ac-ce1f-4170-a9a3-b8472a554cc3",
   "metadata": {},
   "outputs": [],
   "source": [
    "root = tk.Tk()\n",
    "root.title(\"Language Translator\")\n",
    "root.geometry(\"700x500\")\n",
    "root.configure(bg=\"#2c3e50\")"
   ]
  },
  {
   "cell_type": "code",
   "execution_count": 4,
   "id": "27f2dbe9-ce1e-423f-a553-749862db6b86",
   "metadata": {},
   "outputs": [],
   "source": [
    "style = ttk.Style()\n",
    "style.theme_use(\"clam\")  # options: clam, alt, default, classic\n",
    "style.configure(\"TButton\", font=(\"Arial Rounded\", 12, \"bold\"), background=\"#27ae60\", foreground=\"white\")\n",
    "style.map(\"TButton\", background=[(\"active\", \"#2ecc71\")])\n",
    "\n",
    "style.configure(\"TCombobox\", font=(\"Arial Rounded\", 11))"
   ]
  },
  {
   "cell_type": "code",
   "execution_count": 5,
   "id": "76c84c5a-9320-426a-a42a-0a1519b0f880",
   "metadata": {},
   "outputs": [],
   "source": [
    "title_label = tk.Label(root, text=\"Language Translator\", font=(\"Arial Rounded\", 18, \"bold\"), fg=\"white\", bg=\"#2c3e50\")\n",
    "title_label.pack(pady=15)"
   ]
  },
  {
   "cell_type": "code",
   "execution_count": 6,
   "id": "7c23200f-ab7f-4124-a1c9-e2c5904ac861",
   "metadata": {},
   "outputs": [],
   "source": [
    "tk.Label(root, text=\"Enter Text:\", font=(\"Arial Rounded\", 12), fg=\"white\", bg=\"#2c3e50\").pack(anchor=\"w\", padx=15)\n",
    "input_text = tk.Text(root, height=6, wrap=\"word\", font=(\"Arial Rounded\", 11), bg=\"#ecf0f1\", fg=\"#2c3e50\")\n",
    "input_text.pack(fill=\"x\", padx=15, pady=5)"
   ]
  },
  {
   "cell_type": "code",
   "execution_count": 7,
   "id": "faa246f4-8b85-4aed-9760-19e9bbc11f5c",
   "metadata": {},
   "outputs": [],
   "source": [
    "tk.Label(root, text=\"Target Language:\", font=(\"Arial Rounded\", 12), fg=\"white\", bg=\"#2c3e50\").pack(anchor=\"w\", padx=15, pady=5)\n",
    "\n",
    "languages = {\n",
    "    \"English\": \"english\", \"Hindi\": \"hindi\", \"French\": \"french\", \"German\": \"german\",\n",
    "    \"Spanish\": \"spanish\", \"Japanese\": \"japanese\",\n",
    "    \"Arabic\": \"arabic\", \"Russian\": \"russian\"\n",
    "}\n",
    "lang_var = tk.StringVar(value=\"Select the language\")\n",
    "lang_dropdown = ttk.Combobox(root, textvariable=lang_var, values=list(languages.values()), state=\"readonly\", font=(\"Segoe UI\", 11))\n",
    "lang_dropdown.pack(padx=15, pady=5)\n",
    "# \"Chinese (Simplified)\": \"chinese\","
   ]
  },
  {
   "cell_type": "code",
   "execution_count": 8,
   "id": "a0aa2caa-6c6b-4c52-872a-01dc40e2c2f5",
   "metadata": {},
   "outputs": [],
   "source": [
    "translate_btn = ttk.Button(root, text=\"Translate\", command=translate_text)\n",
    "translate_btn.pack(pady=15)"
   ]
  },
  {
   "cell_type": "code",
   "execution_count": null,
   "id": "52714cd0-fe41-429d-b3c3-cfd20193056f",
   "metadata": {},
   "outputs": [],
   "source": [
    "tk.Label(root, text=\"Translated Text:\", font=(\"Arial Rounded\", 12), fg=\"white\", bg=\"#2c3e50\").pack(anchor=\"w\", padx=15)\n",
    "output_text = tk.Text(root, height=6, wrap=\"word\", font=(\"Arial Rounded\", 11), bg=\"#ecf0f1\", fg=\"#2980b9\")\n",
    "output_text.pack(fill=\"x\", padx=15, pady=5)\n",
    "\n",
    "root.mainloop()"
   ]
  },
  {
   "cell_type": "code",
   "execution_count": null,
   "id": "585a2218-9f29-417b-a8ed-77f41c26f7fb",
   "metadata": {},
   "outputs": [],
   "source": []
  }
 ],
 "metadata": {
  "kernelspec": {
   "display_name": "Python [conda env:base] *",
   "language": "python",
   "name": "conda-base-py"
  },
  "language_info": {
   "codemirror_mode": {
    "name": "ipython",
    "version": 3
   },
   "file_extension": ".py",
   "mimetype": "text/x-python",
   "name": "python",
   "nbconvert_exporter": "python",
   "pygments_lexer": "ipython3",
   "version": "3.13.5"
  }
 },
 "nbformat": 4,
 "nbformat_minor": 5
}
